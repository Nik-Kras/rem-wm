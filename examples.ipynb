{
 "cells": [
  {
   "cell_type": "code",
   "execution_count": 1,
   "metadata": {},
   "outputs": [],
   "source": [
    "from remwm import WatermarkRemover\n",
    "\n",
    "# Initialize WatermarkRemover object with custom Florence model (optional)\n",
    "remover = WatermarkRemover(model_id='microsoft/Florence-2-large')"
   ]
  },
  {
   "cell_type": "code",
   "execution_count": null,
   "metadata": {},
   "outputs": [],
   "source": [
    "# To process a single image\n",
    "input_image_path = \"example_image/image0.jpeg\"\n",
    "output_image_path = \"results/image0.jpeg\"\n",
    "remover.process_images_florence_lama(input_image_path, output_image_path)"
   ]
  },
  {
   "cell_type": "code",
   "execution_count": null,
   "metadata": {},
   "outputs": [],
   "source": [
    "# To batch process images in a folder\n",
    "input_dir = \"example_image\"\n",
    "output_dir = \"results\"\n",
    "remover.process_batch(input_dir, output_dir, max_workers=4)"
   ]
  }
 ],
 "metadata": {
  "kernelspec": {
   "display_name": "venv",
   "language": "python",
   "name": "python3"
  },
  "language_info": {
   "codemirror_mode": {
    "name": "ipython",
    "version": 3
   },
   "file_extension": ".py",
   "mimetype": "text/x-python",
   "name": "python",
   "nbconvert_exporter": "python",
   "pygments_lexer": "ipython3",
   "version": "3.10.13"
  }
 },
 "nbformat": 4,
 "nbformat_minor": 2
}
